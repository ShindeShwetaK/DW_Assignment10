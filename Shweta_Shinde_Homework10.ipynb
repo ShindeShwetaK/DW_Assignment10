{
  "nbformat": 4,
  "nbformat_minor": 0,
  "metadata": {
    "colab": {
      "provenance": []
    },
    "kernelspec": {
      "name": "python3",
      "display_name": "Python 3"
    },
    "language_info": {
      "name": "python"
    }
  },
  "cells": [
    {
      "cell_type": "markdown",
      "source": [],
      "metadata": {
        "id": "cERNRc3znADp"
      }
    },
    {
      "cell_type": "code",
      "execution_count": 2,
      "metadata": {
        "colab": {
          "base_uri": "https://localhost:8080/"
        },
        "id": "v57BxJkA31BW",
        "outputId": "26395474-602f-489e-d8b7-940fccc1623d"
      },
      "outputs": [
        {
          "output_type": "stream",
          "name": "stdout",
          "text": [
            "Requirement already satisfied: pyspark==3.5.3 in /usr/local/lib/python3.10/dist-packages (3.5.3)\n",
            "Requirement already satisfied: py4j==0.10.9.7 in /usr/local/lib/python3.10/dist-packages (from pyspark==3.5.3) (0.10.9.7)\n"
          ]
        }
      ],
      "source": [
        "!pip install pyspark==3.5.3"
      ]
    },
    {
      "cell_type": "code",
      "source": [
        "!wget -nc https://raw.githubusercontent.com/keeyong/sjsu-data226/refs/heads/main/week12/data/sample_web_log_1.log.gz\n",
        "!wget -nc https://raw.githubusercontent.com/keeyong/sjsu-data226/refs/heads/main/week12/data/sample_web_log_2.log.gz\n",
        "!wget -nc https://raw.githubusercontent.com/keeyong/sjsu-data226/refs/heads/main/week12/data/sample_web_log_3.log.gz\n",
        "!wget -nc https://raw.githubusercontent.com/keeyong/sjsu-data226/refs/heads/main/week12/data/sample_web_log_4.log.gz\n",
        "!wget -nc https://raw.githubusercontent.com/keeyong/sjsu-data226/refs/heads/main/week12/data/sample_web_log_5.log.gz\n",
        "!wget -nc https://raw.githubusercontent.com/keeyong/sjsu-data226/refs/heads/main/week12/data/sample_web_log_6.log.gz\n",
        "!wget -nc https://raw.githubusercontent.com/keeyong/sjsu-data226/refs/heads/main/week12/data/sample_web_log_7.log.gz"
      ],
      "metadata": {
        "colab": {
          "base_uri": "https://localhost:8080/"
        },
        "id": "o1BhV1rb6R35",
        "outputId": "224e900e-6e7c-497a-9ce1-d4048dd11022"
      },
      "execution_count": 3,
      "outputs": [
        {
          "output_type": "stream",
          "name": "stdout",
          "text": [
            "--2024-11-14 21:37:30--  https://raw.githubusercontent.com/keeyong/sjsu-data226/refs/heads/main/week12/data/sample_web_log_1.log.gz\n",
            "Resolving raw.githubusercontent.com (raw.githubusercontent.com)... 185.199.109.133, 185.199.108.133, 185.199.111.133, ...\n",
            "Connecting to raw.githubusercontent.com (raw.githubusercontent.com)|185.199.109.133|:443... connected.\n",
            "HTTP request sent, awaiting response... 200 OK\n",
            "Length: 10277393 (9.8M) [application/octet-stream]\n",
            "Saving to: ‘sample_web_log_1.log.gz’\n",
            "\n",
            "sample_web_log_1.lo 100%[===================>]   9.80M  --.-KB/s    in 0.1s    \n",
            "\n",
            "2024-11-14 21:37:30 (68.8 MB/s) - ‘sample_web_log_1.log.gz’ saved [10277393/10277393]\n",
            "\n",
            "--2024-11-14 21:37:30--  https://raw.githubusercontent.com/keeyong/sjsu-data226/refs/heads/main/week12/data/sample_web_log_2.log.gz\n",
            "Resolving raw.githubusercontent.com (raw.githubusercontent.com)... 185.199.108.133, 185.199.110.133, 185.199.109.133, ...\n",
            "Connecting to raw.githubusercontent.com (raw.githubusercontent.com)|185.199.108.133|:443... connected.\n",
            "HTTP request sent, awaiting response... 200 OK\n",
            "Length: 10277610 (9.8M) [application/octet-stream]\n",
            "Saving to: ‘sample_web_log_2.log.gz’\n",
            "\n",
            "sample_web_log_2.lo 100%[===================>]   9.80M  --.-KB/s    in 0.1s    \n",
            "\n",
            "2024-11-14 21:37:31 (78.7 MB/s) - ‘sample_web_log_2.log.gz’ saved [10277610/10277610]\n",
            "\n",
            "--2024-11-14 21:37:31--  https://raw.githubusercontent.com/keeyong/sjsu-data226/refs/heads/main/week12/data/sample_web_log_3.log.gz\n",
            "Resolving raw.githubusercontent.com (raw.githubusercontent.com)... 185.199.108.133, 185.199.109.133, 185.199.110.133, ...\n",
            "Connecting to raw.githubusercontent.com (raw.githubusercontent.com)|185.199.108.133|:443... connected.\n",
            "HTTP request sent, awaiting response... 200 OK\n",
            "Length: 10276732 (9.8M) [application/octet-stream]\n",
            "Saving to: ‘sample_web_log_3.log.gz’\n",
            "\n",
            "sample_web_log_3.lo 100%[===================>]   9.80M  56.7MB/s    in 0.2s    \n",
            "\n",
            "2024-11-14 21:37:31 (56.7 MB/s) - ‘sample_web_log_3.log.gz’ saved [10276732/10276732]\n",
            "\n",
            "--2024-11-14 21:37:31--  https://raw.githubusercontent.com/keeyong/sjsu-data226/refs/heads/main/week12/data/sample_web_log_4.log.gz\n",
            "Resolving raw.githubusercontent.com (raw.githubusercontent.com)... 185.199.111.133, 185.199.108.133, 185.199.110.133, ...\n",
            "Connecting to raw.githubusercontent.com (raw.githubusercontent.com)|185.199.111.133|:443... connected.\n",
            "HTTP request sent, awaiting response... 200 OK\n",
            "Length: 10277331 (9.8M) [application/octet-stream]\n",
            "Saving to: ‘sample_web_log_4.log.gz’\n",
            "\n",
            "sample_web_log_4.lo 100%[===================>]   9.80M  59.5MB/s    in 0.2s    \n",
            "\n",
            "2024-11-14 21:37:32 (59.5 MB/s) - ‘sample_web_log_4.log.gz’ saved [10277331/10277331]\n",
            "\n",
            "--2024-11-14 21:37:32--  https://raw.githubusercontent.com/keeyong/sjsu-data226/refs/heads/main/week12/data/sample_web_log_5.log.gz\n",
            "Resolving raw.githubusercontent.com (raw.githubusercontent.com)... 185.199.108.133, 185.199.111.133, 185.199.110.133, ...\n",
            "Connecting to raw.githubusercontent.com (raw.githubusercontent.com)|185.199.108.133|:443... connected.\n",
            "HTTP request sent, awaiting response... 200 OK\n",
            "Length: 10277563 (9.8M) [application/octet-stream]\n",
            "Saving to: ‘sample_web_log_5.log.gz’\n",
            "\n",
            "sample_web_log_5.lo 100%[===================>]   9.80M  49.8MB/s    in 0.2s    \n",
            "\n",
            "2024-11-14 21:37:32 (49.8 MB/s) - ‘sample_web_log_5.log.gz’ saved [10277563/10277563]\n",
            "\n",
            "--2024-11-14 21:37:32--  https://raw.githubusercontent.com/keeyong/sjsu-data226/refs/heads/main/week12/data/sample_web_log_6.log.gz\n",
            "Resolving raw.githubusercontent.com (raw.githubusercontent.com)... 185.199.110.133, 185.199.111.133, 185.199.109.133, ...\n",
            "Connecting to raw.githubusercontent.com (raw.githubusercontent.com)|185.199.110.133|:443... connected.\n",
            "HTTP request sent, awaiting response... 200 OK\n",
            "Length: 10276383 (9.8M) [application/octet-stream]\n",
            "Saving to: ‘sample_web_log_6.log.gz’\n",
            "\n",
            "sample_web_log_6.lo 100%[===================>]   9.80M  51.9MB/s    in 0.2s    \n",
            "\n",
            "2024-11-14 21:37:33 (51.9 MB/s) - ‘sample_web_log_6.log.gz’ saved [10276383/10276383]\n",
            "\n",
            "--2024-11-14 21:37:33--  https://raw.githubusercontent.com/keeyong/sjsu-data226/refs/heads/main/week12/data/sample_web_log_7.log.gz\n",
            "Resolving raw.githubusercontent.com (raw.githubusercontent.com)... 185.199.108.133, 185.199.110.133, 185.199.109.133, ...\n",
            "Connecting to raw.githubusercontent.com (raw.githubusercontent.com)|185.199.108.133|:443... connected.\n",
            "HTTP request sent, awaiting response... 200 OK\n",
            "Length: 10279182 (9.8M) [application/octet-stream]\n",
            "Saving to: ‘sample_web_log_7.log.gz’\n",
            "\n",
            "sample_web_log_7.lo 100%[===================>]   9.80M  51.0MB/s    in 0.2s    \n",
            "\n",
            "2024-11-14 21:37:33 (51.0 MB/s) - ‘sample_web_log_7.log.gz’ saved [10279182/10279182]\n",
            "\n"
          ]
        }
      ]
    },
    {
      "cell_type": "markdown",
      "source": [
        "Configure snowflake jar file and set up SparkSession"
      ],
      "metadata": {
        "id": "9z5DoEI08Ii6"
      }
    },
    {
      "cell_type": "code",
      "source": [
        "!cd /usr/local/lib/python3.10/dist-packages/pyspark/jars && wget https://repo1.maven.org/maven2/net/snowflake/snowflake-jdbc/3.19.0/snowflake-jdbc-3.19.0.jar"
      ],
      "metadata": {
        "colab": {
          "base_uri": "https://localhost:8080/"
        },
        "id": "qhLdlhb48MAC",
        "outputId": "c071d130-a9f7-45a7-d09f-5649ea1c2f00"
      },
      "execution_count": 4,
      "outputs": [
        {
          "output_type": "stream",
          "name": "stdout",
          "text": [
            "--2024-11-14 21:37:38--  https://repo1.maven.org/maven2/net/snowflake/snowflake-jdbc/3.19.0/snowflake-jdbc-3.19.0.jar\n",
            "Resolving repo1.maven.org (repo1.maven.org)... 199.232.192.209, 199.232.196.209, 2a04:4e42:4c::209, ...\n",
            "Connecting to repo1.maven.org (repo1.maven.org)|199.232.192.209|:443... connected.\n",
            "HTTP request sent, awaiting response... 200 OK\n",
            "Length: 70986770 (68M) [application/java-archive]\n",
            "Saving to: ‘snowflake-jdbc-3.19.0.jar’\n",
            "\n",
            "snowflake-jdbc-3.19 100%[===================>]  67.70M   171MB/s    in 0.4s    \n",
            "\n",
            "2024-11-14 21:37:39 (171 MB/s) - ‘snowflake-jdbc-3.19.0.jar’ saved [70986770/70986770]\n",
            "\n"
          ]
        }
      ]
    },
    {
      "cell_type": "code",
      "execution_count": 5,
      "metadata": {
        "id": "2ehI1dj_i7H1"
      },
      "outputs": [],
      "source": [
        "from pyspark.sql import SparkSession\n",
        "import pyspark.sql.functions as F\n",
        "\n",
        "spark = SparkSession.builder.appName(\"HandleLogFiles\").getOrCreate()"
      ]
    },
    {
      "cell_type": "code",
      "source": [
        "# Load all .gz files in the directory into a DataFrame\n",
        "df = spark.read.text(\"*.gz\")"
      ],
      "metadata": {
        "id": "MX72WDpZ93H_"
      },
      "execution_count": 6,
      "outputs": []
    },
    {
      "cell_type": "code",
      "source": [
        "# Check the number of partitions\n",
        "print(df.rdd.getNumPartitions())\n",
        "\n",
        "df.show(truncate=False)"
      ],
      "metadata": {
        "colab": {
          "base_uri": "https://localhost:8080/"
        },
        "id": "T6uRAyi398OM",
        "outputId": "50326c85-0ade-4e7c-914a-79ef6fb9f9ce"
      },
      "execution_count": null,
      "outputs": [
        {
          "output_type": "stream",
          "name": "stdout",
          "text": [
            "3\n",
            "+-----------------------------------------------------------------------------------+\n",
            "|value                                                                              |\n",
            "+-----------------------------------------------------------------------------------+\n",
            "|123.45.67.89 - - [05/Nov/2024:02:08:16 +0000] \"DELETE /cart HTTP/1.1\" 500 242      |\n",
            "|192.168.1.1 - - [04/Nov/2024:21:23:39 +0000] \"POST /checkout HTTP/1.1\" 404 2781    |\n",
            "|234.56.78.90 - - [05/Nov/2024:07:06:19 +0000] \"GET /api/data HTTP/1.1\" 301 3758    |\n",
            "|192.168.1.1 - - [04/Nov/2024:20:03:56 +0000] \"POST /home HTTP/1.1\" 200 1837        |\n",
            "|192.168.1.1 - - [04/Nov/2024:21:25:05 +0000] \"GET /products/123 HTTP/1.1\" 200 3430 |\n",
            "|234.56.78.90 - - [04/Nov/2024:07:38:10 +0000] \"GET /api/data HTTP/1.1\" 404 3729    |\n",
            "|123.45.67.89 - - [04/Nov/2024:12:33:22 +0000] \"PUT /api/data HTTP/1.1\" 404 799     |\n",
            "|192.168.1.1 - - [04/Nov/2024:07:37:46 +0000] \"GET /api/data HTTP/1.1\" 500 309      |\n",
            "|123.45.67.89 - - [04/Nov/2024:21:52:36 +0000] \"POST /checkout HTTP/1.1\" 301 2375   |\n",
            "|123.45.67.89 - - [04/Nov/2024:08:36:44 +0000] \"DELETE /api/data HTTP/1.1\" 404 3449 |\n",
            "|192.168.1.1 - - [05/Nov/2024:03:15:43 +0000] \"GET /api/data HTTP/1.1\" 200 2319     |\n",
            "|234.56.78.90 - - [05/Nov/2024:01:26:03 +0000] \"DELETE /home HTTP/1.1\" 500 1168     |\n",
            "|234.56.78.90 - - [05/Nov/2024:03:26:33 +0000] \"DELETE /cart HTTP/1.1\" 500 1262     |\n",
            "|123.45.67.89 - - [04/Nov/2024:20:46:25 +0000] \"PUT /home HTTP/1.1\" 301 4401        |\n",
            "|123.45.67.89 - - [05/Nov/2024:08:07:51 +0000] \"GET /api/data HTTP/1.1\" 301 3736    |\n",
            "|123.45.67.89 - - [04/Nov/2024:21:01:30 +0000] \"DELETE /cart HTTP/1.1\" 404 2418     |\n",
            "|123.45.67.89 - - [04/Nov/2024:09:40:29 +0000] \"POST /api/data HTTP/1.1\" 301 3260   |\n",
            "|234.56.78.90 - - [04/Nov/2024:09:23:42 +0000] \"GET /home HTTP/1.1\" 200 1488        |\n",
            "|192.168.1.1 - - [04/Nov/2024:11:53:57 +0000] \"POST /products/123 HTTP/1.1\" 200 2627|\n",
            "|234.56.78.90 - - [05/Nov/2024:01:26:01 +0000] \"PUT /cart HTTP/1.1\" 500 4406        |\n",
            "+-----------------------------------------------------------------------------------+\n",
            "only showing top 20 rows\n",
            "\n"
          ]
        }
      ]
    },
    {
      "cell_type": "code",
      "source": [
        "# Extract the necessary information from log data using regular expressions\n",
        "pattern = r'(\\d+\\.\\d+\\.\\d+\\.\\d+) - - \\[(.*?)\\] \"(.*?) (.*?) HTTP.*\" (\\d+) (\\d+)'\n",
        "\n",
        "log_df = df.select(\n",
        "    F.regexp_extract(\"value\", pattern, 1).alias(\"ip\"),\n",
        "    F.regexp_extract(\"value\", pattern, 2).alias(\"timestamp\"),\n",
        "    F.regexp_extract(\"value\", pattern, 3).alias(\"method\"),\n",
        "    F.regexp_extract(\"value\", pattern, 4).alias(\"url\"),\n",
        "    F.regexp_extract(\"value\", pattern, 5).alias(\"status\").cast(\"integer\"),\n",
        "    F.regexp_extract(\"value\", pattern, 6).alias(\"size\").cast(\"integer\")\n",
        ")"
      ],
      "metadata": {
        "id": "z14LzB6x_iva"
      },
      "execution_count": 7,
      "outputs": []
    },
    {
      "cell_type": "code",
      "source": [
        "log_df.show()"
      ],
      "metadata": {
        "colab": {
          "base_uri": "https://localhost:8080/"
        },
        "id": "Rqpa598kBVd6",
        "outputId": "cd7fe472-134c-4691-8057-6d89d4dd1653"
      },
      "execution_count": 8,
      "outputs": [
        {
          "output_type": "stream",
          "name": "stdout",
          "text": [
            "+------------+--------------------+------+-------------+------+----+\n",
            "|          ip|           timestamp|method|          url|status|size|\n",
            "+------------+--------------------+------+-------------+------+----+\n",
            "|123.45.67.89|05/Nov/2024:02:08...|DELETE|        /cart|   500| 242|\n",
            "| 192.168.1.1|04/Nov/2024:21:23...|  POST|    /checkout|   404|2781|\n",
            "|234.56.78.90|05/Nov/2024:07:06...|   GET|    /api/data|   301|3758|\n",
            "| 192.168.1.1|04/Nov/2024:20:03...|  POST|        /home|   200|1837|\n",
            "| 192.168.1.1|04/Nov/2024:21:25...|   GET|/products/123|   200|3430|\n",
            "|234.56.78.90|04/Nov/2024:07:38...|   GET|    /api/data|   404|3729|\n",
            "|123.45.67.89|04/Nov/2024:12:33...|   PUT|    /api/data|   404| 799|\n",
            "| 192.168.1.1|04/Nov/2024:07:37...|   GET|    /api/data|   500| 309|\n",
            "|123.45.67.89|04/Nov/2024:21:52...|  POST|    /checkout|   301|2375|\n",
            "|123.45.67.89|04/Nov/2024:08:36...|DELETE|    /api/data|   404|3449|\n",
            "| 192.168.1.1|05/Nov/2024:03:15...|   GET|    /api/data|   200|2319|\n",
            "|234.56.78.90|05/Nov/2024:01:26...|DELETE|        /home|   500|1168|\n",
            "|234.56.78.90|05/Nov/2024:03:26...|DELETE|        /cart|   500|1262|\n",
            "|123.45.67.89|04/Nov/2024:20:46...|   PUT|        /home|   301|4401|\n",
            "|123.45.67.89|05/Nov/2024:08:07...|   GET|    /api/data|   301|3736|\n",
            "|123.45.67.89|04/Nov/2024:21:01...|DELETE|        /cart|   404|2418|\n",
            "|123.45.67.89|04/Nov/2024:09:40...|  POST|    /api/data|   301|3260|\n",
            "|234.56.78.90|04/Nov/2024:09:23...|   GET|        /home|   200|1488|\n",
            "| 192.168.1.1|04/Nov/2024:11:53...|  POST|/products/123|   200|2627|\n",
            "|234.56.78.90|05/Nov/2024:01:26...|   PUT|        /cart|   500|4406|\n",
            "+------------+--------------------+------+-------------+------+----+\n",
            "only showing top 20 rows\n",
            "\n"
          ]
        }
      ]
    },
    {
      "cell_type": "code",
      "source": [
        "#compute count of each unique URL and Status combination\n",
        "count_df=log_df.groupby(\"url\",\"status\").count()\n",
        "count_df.show()"
      ],
      "metadata": {
        "colab": {
          "base_uri": "https://localhost:8080/"
        },
        "id": "TjclDNEWpbTQ",
        "outputId": "306cb350-39d9-4224-cb77-6b6fcefa56aa"
      },
      "execution_count": 9,
      "outputs": [
        {
          "output_type": "stream",
          "name": "stdout",
          "text": [
            "+-------------+------+------+\n",
            "|          url|status| count|\n",
            "+-------------+------+------+\n",
            "|/products/123|   500|349853|\n",
            "|/products/123|   200|349536|\n",
            "|    /checkout|   500|349414|\n",
            "|/products/123|   301|349904|\n",
            "|    /checkout|   200|351036|\n",
            "|        /home|   500|351457|\n",
            "|        /cart|   500|349433|\n",
            "|        /home|   404|349492|\n",
            "|    /checkout|   404|349604|\n",
            "|        /cart|   301|350262|\n",
            "|    /api/data|   200|349703|\n",
            "|    /api/data|   301|348954|\n",
            "|    /api/data|   500|350091|\n",
            "|        /cart|   200|350305|\n",
            "|        /home|   200|350541|\n",
            "|/products/123|   404|350970|\n",
            "|        /home|   301|350203|\n",
            "|    /checkout|   301|349914|\n",
            "|        /cart|   404|349830|\n",
            "|    /api/data|   404|349498|\n",
            "+-------------+------+------+\n",
            "\n"
          ]
        }
      ]
    },
    {
      "cell_type": "code",
      "source": [
        "# Register the DataFrame as a temporary SQL table\n",
        "log_df.createOrReplaceTempView(\"logs_df_status\")\n",
        "# Use SparkSQL to count URLs with 404 status\n",
        "count_df_spark = spark.sql(\"\"\"\n",
        "    SELECT url, status,COUNT(*) as count_status\n",
        "    FROM logs_df_status\n",
        "    GROUP BY url, status\n",
        "    ORDER BY count_status DESC\n",
        "\"\"\")\n",
        "count_df_spark.show()"
      ],
      "metadata": {
        "colab": {
          "base_uri": "https://localhost:8080/"
        },
        "id": "dfXXk1ikp40S",
        "outputId": "25763f23-981b-420d-9cf6-c9484b1f82e8"
      },
      "execution_count": 16,
      "outputs": [
        {
          "output_type": "stream",
          "name": "stdout",
          "text": [
            "+-------------+------+------------+\n",
            "|          url|status|count_status|\n",
            "+-------------+------+------------+\n",
            "|        /home|   500|      351457|\n",
            "|    /checkout|   200|      351036|\n",
            "|/products/123|   404|      350970|\n",
            "|        /home|   200|      350541|\n",
            "|        /cart|   200|      350305|\n",
            "|        /cart|   301|      350262|\n",
            "|        /home|   301|      350203|\n",
            "|    /api/data|   500|      350091|\n",
            "|    /checkout|   301|      349914|\n",
            "|/products/123|   301|      349904|\n",
            "|/products/123|   500|      349853|\n",
            "|        /cart|   404|      349830|\n",
            "|    /api/data|   200|      349703|\n",
            "|    /checkout|   404|      349604|\n",
            "|/products/123|   200|      349536|\n",
            "|    /api/data|   404|      349498|\n",
            "|        /home|   404|      349492|\n",
            "|        /cart|   500|      349433|\n",
            "|    /checkout|   500|      349414|\n",
            "|    /api/data|   301|      348954|\n",
            "+-------------+------+------------+\n",
            "\n"
          ]
        }
      ]
    },
    {
      "cell_type": "code",
      "source": [
        "# Keep only 404 error logs\n",
        "error_404_logs = log_df.filter(log_df.status == 404)"
      ],
      "metadata": {
        "id": "RAkLdX27CS0I"
      },
      "execution_count": 13,
      "outputs": []
    },
    {
      "cell_type": "code",
      "source": [
        "# Group by URL and then count, and sort by count in descending order\n",
        "url_404_count = error_404_logs.groupBy(\"url\").count().orderBy(F.desc(\"count\"))"
      ],
      "metadata": {
        "id": "dtfmz_2GCV8o"
      },
      "execution_count": 14,
      "outputs": []
    },
    {
      "cell_type": "code",
      "source": [
        "# print the outcome\n",
        "url_404_count.show()"
      ],
      "metadata": {
        "colab": {
          "base_uri": "https://localhost:8080/"
        },
        "id": "CK5crIpFCceb",
        "outputId": "2d293f5c-d688-4265-df58-193095c28218"
      },
      "execution_count": 15,
      "outputs": [
        {
          "output_type": "stream",
          "name": "stdout",
          "text": [
            "+-------------+------+\n",
            "|          url| count|\n",
            "+-------------+------+\n",
            "|/products/123|350970|\n",
            "|        /cart|349830|\n",
            "|    /checkout|349604|\n",
            "|    /api/data|349498|\n",
            "|        /home|349492|\n",
            "+-------------+------+\n",
            "\n"
          ]
        }
      ]
    },
    {
      "cell_type": "code",
      "source": [
        "# Register the DataFrame as a temporary SQL table\n",
        "log_df.createOrReplaceTempView(\"logs\")"
      ],
      "metadata": {
        "id": "u6fuijFbCqs0"
      },
      "execution_count": null,
      "outputs": []
    },
    {
      "cell_type": "code",
      "source": [
        "# Use SparkSQL to count URLs with 404 status\n",
        "url_404_count = spark.sql(\"\"\"\n",
        "    SELECT url, COUNT(1) as count\n",
        "    FROM logs\n",
        "    WHERE status = 404\n",
        "    GROUP BY url\n",
        "    ORDER BY count DESC\n",
        "\"\"\")"
      ],
      "metadata": {
        "id": "slpokv9jCs6a"
      },
      "execution_count": 17,
      "outputs": []
    },
    {
      "cell_type": "code",
      "source": [
        "url_404_count.show()"
      ],
      "metadata": {
        "colab": {
          "base_uri": "https://localhost:8080/"
        },
        "id": "s0c3OusaC07c",
        "outputId": "7f3542ac-8618-409f-d104-ec33debb6037"
      },
      "execution_count": null,
      "outputs": [
        {
          "output_type": "stream",
          "name": "stdout",
          "text": [
            "+-------------+------+\n",
            "|          url| count|\n",
            "+-------------+------+\n",
            "|/products/123|350970|\n",
            "|        /cart|349830|\n",
            "|    /checkout|349604|\n",
            "|    /api/data|349498|\n",
            "|        /home|349492|\n",
            "+-------------+------+\n",
            "\n"
          ]
        }
      ]
    },
    {
      "cell_type": "code",
      "source": [
        "from google.colab import userdata\n",
        "\n",
        "account = userdata.get('account')\n",
        "user = userdata.get('User')\n",
        "password = userdata.get('snowflake_password')\n",
        "database = \"dev\"\n",
        "schema = \"analytics\"\n",
        "\n",
        "url = f\"jdbc:snowflake://{account}.snowflakecomputing.com/?db={database}&schema={schema}&user={user}&password={password}\""
      ],
      "metadata": {
        "id": "qih1JXSDC-l0"
      },
      "execution_count": 28,
      "outputs": []
    },
    {
      "cell_type": "code",
      "source": [
        "count_df_spark.write \\\n",
        "    .format(\"jdbc\") \\\n",
        "    .option(\"driver\", \"net.snowflake.client.jdbc.SnowflakeDriver\") \\\n",
        "    .option(\"url\", f\"jdbc:snowflake://{account}.snowflakecomputing.com\") \\\n",
        "    .option(\"dbtable\", \"count_df_spark\") \\\n",
        "    .option(\"user\", user) \\\n",
        "    .option(\"password\", password) \\\n",
        "    .option(\"database\", database) \\\n",
        "    .option(\"schema\", schema) \\\n",
        "    .mode(\"overwrite\") \\\n",
        "    .save()"
      ],
      "metadata": {
        "id": "FzvnCNXcDM_V"
      },
      "execution_count": 30,
      "outputs": []
    }
  ]
}